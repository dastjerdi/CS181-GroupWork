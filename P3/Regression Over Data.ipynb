{
 "cells": [
  {
   "cell_type": "code",
   "execution_count": 65,
   "metadata": {
    "collapsed": false
   },
   "outputs": [],
   "source": [
    "%matplotlib inline\n",
    "import re\n",
    "import numpy as np\n",
    "import pandas as pd\n",
    "import string\n",
    "import matplotlib.pyplot as plt\n",
    "import librosa\n",
    "import librosa.feature as lf\n",
    "import librosa.display\n",
    "import IPython.display as ipd\n",
    "import numpy\n",
    "from sklearn.linear_model import LogisticRegressionCV\n",
    "from sklearn.neural_network import MLPClassifier\n",
    "from sklearn.naive_bayes import GaussianNB"
   ]
  },
  {
   "cell_type": "code",
   "execution_count": 42,
   "metadata": {
    "collapsed": false
   },
   "outputs": [],
   "source": [
    "train = pd.read_csv(\"df_train.csv\")\n",
    "test = pd.read_csv(\"df_test.csv\")\n",
    "train = train.drop(['Unnamed: 0'], axis = 1)\n",
    "test = test.drop(['Unnamed: 0', 'Id'], axis = 1)"
   ]
  },
  {
   "cell_type": "code",
   "execution_count": 43,
   "metadata": {
    "collapsed": false
   },
   "outputs": [],
   "source": [
    "y_train = train['class']\n",
    "x_train = train.drop(['class'], axis = 1)"
   ]
  },
  {
   "cell_type": "code",
   "execution_count": 45,
   "metadata": {
    "collapsed": false
   },
   "outputs": [],
   "source": [
    "LogReg = LogisticRegressionCV(multi_class='multinomial', solver='sag')\n",
    "LogReg.fit(x_train, y_train)\n",
    "predictions = LogReg.predict(test)"
   ]
  },
  {
   "cell_type": "code",
   "execution_count": 60,
   "metadata": {
    "collapsed": false
   },
   "outputs": [],
   "source": [
    "predictions = pd.Series(predictions)\n",
    "LogRegCV = pd.DataFrame(predictions, columns=['Prediction'])\n",
    "LogRegCV.Prediction = LogRegCV.Prediction.astype(int)\n",
    "LogRegCV.to_csv(\"LogRegCV.csv\", index_label=['Id'])"
   ]
  },
  {
   "cell_type": "code",
   "execution_count": 64,
   "metadata": {
    "collapsed": false
   },
   "outputs": [],
   "source": [
    "NN = MLPClassifier()\n",
    "NN.fit(x_train, y_train)\n",
    "predictions = NN.predict(test)\n",
    "predictions = pd.Series(predictions)\n",
    "NNPred = pd.DataFrame(predictions, columns=['Prediction'])\n",
    "NNPred.Prediction = NNPred.Prediction.astype(int)\n",
    "NNPred.to_csv(\"NNPred.csv\", index_label=['Id'])"
   ]
  },
  {
   "cell_type": "code",
   "execution_count": 66,
   "metadata": {
    "collapsed": true
   },
   "outputs": [],
   "source": [
    "GNB = GaussianNB()\n",
    "predictions = GNB.fit(x_train, y_train).predict(test)\n",
    "predictions = pd.Series(predictions)\n",
    "GNBPred = pd.DataFrame(predictions, columns=['Prediction'])\n",
    "GNBPred.Prediction = GNBPred.Prediction.astype(int)\n",
    "GNBPred.to_csv(\"GNBPred.csv\", index_label=['Id'])"
   ]
  },
  {
   "cell_type": "code",
   "execution_count": null,
   "metadata": {
    "collapsed": true
   },
   "outputs": [],
   "source": []
  }
 ],
 "metadata": {
  "kernelspec": {
   "display_name": "Python 2",
   "language": "python",
   "name": "python2"
  },
  "language_info": {
   "codemirror_mode": {
    "name": "ipython",
    "version": 2
   },
   "file_extension": ".py",
   "mimetype": "text/x-python",
   "name": "python",
   "nbconvert_exporter": "python",
   "pygments_lexer": "ipython2",
   "version": "2.7.13"
  }
 },
 "nbformat": 4,
 "nbformat_minor": 2
}
